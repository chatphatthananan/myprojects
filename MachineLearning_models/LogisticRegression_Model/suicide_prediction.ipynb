{
 "cells": [
  {
   "cell_type": "code",
   "execution_count": 1,
   "id": "forward-sheriff",
   "metadata": {
    "ExecuteTime": {
     "end_time": "2021-04-28T14:36:23.189973Z",
     "start_time": "2021-04-28T14:36:22.902528Z"
    }
   },
   "outputs": [],
   "source": [
    "import pandas as pd"
   ]
  },
  {
   "cell_type": "markdown",
   "id": "industrial-venezuela",
   "metadata": {},
   "source": [
    "### Read in the preprocessed data"
   ]
  },
  {
   "cell_type": "code",
   "execution_count": 2,
   "id": "proprietary-richards",
   "metadata": {
    "ExecuteTime": {
     "end_time": "2021-04-28T14:36:23.222042Z",
     "start_time": "2021-04-28T14:36:23.190972Z"
    }
   },
   "outputs": [],
   "source": [
    "df = pd.read_csv('preprocessed_suicides.csv')"
   ]
  },
  {
   "cell_type": "code",
   "execution_count": 3,
   "id": "reliable-principal",
   "metadata": {
    "ExecuteTime": {
     "end_time": "2021-04-28T14:36:23.253918Z",
     "start_time": "2021-04-28T14:36:23.223001Z"
    }
   },
   "outputs": [
    {
     "data": {
      "text/html": [
       "<div>\n",
       "<style scoped>\n",
       "    .dataframe tbody tr th:only-of-type {\n",
       "        vertical-align: middle;\n",
       "    }\n",
       "\n",
       "    .dataframe tbody tr th {\n",
       "        vertical-align: top;\n",
       "    }\n",
       "\n",
       "    .dataframe thead th {\n",
       "        text-align: right;\n",
       "    }\n",
       "</style>\n",
       "<table border=\"1\" class=\"dataframe\">\n",
       "  <thead>\n",
       "    <tr style=\"text-align: right;\">\n",
       "      <th></th>\n",
       "      <th>Country</th>\n",
       "      <th>Year</th>\n",
       "      <th>Sex</th>\n",
       "      <th>Age</th>\n",
       "      <th>suicides_no</th>\n",
       "      <th>population</th>\n",
       "      <th>suicides/100k pop</th>\n",
       "      <th>Country-year</th>\n",
       "      <th>gdp_per_capita ($)</th>\n",
       "      <th>Generation</th>\n",
       "    </tr>\n",
       "  </thead>\n",
       "  <tbody>\n",
       "    <tr>\n",
       "      <th>0</th>\n",
       "      <td>0</td>\n",
       "      <td>2.0</td>\n",
       "      <td>1.0</td>\n",
       "      <td>0.0</td>\n",
       "      <td>21</td>\n",
       "      <td>312900</td>\n",
       "      <td>6.71</td>\n",
       "      <td>0.0</td>\n",
       "      <td>796</td>\n",
       "      <td>2</td>\n",
       "    </tr>\n",
       "    <tr>\n",
       "      <th>1</th>\n",
       "      <td>0</td>\n",
       "      <td>2.0</td>\n",
       "      <td>1.0</td>\n",
       "      <td>2.0</td>\n",
       "      <td>16</td>\n",
       "      <td>308000</td>\n",
       "      <td>5.19</td>\n",
       "      <td>0.0</td>\n",
       "      <td>796</td>\n",
       "      <td>5</td>\n",
       "    </tr>\n",
       "    <tr>\n",
       "      <th>2</th>\n",
       "      <td>0</td>\n",
       "      <td>2.0</td>\n",
       "      <td>0.0</td>\n",
       "      <td>0.0</td>\n",
       "      <td>14</td>\n",
       "      <td>289700</td>\n",
       "      <td>4.83</td>\n",
       "      <td>0.0</td>\n",
       "      <td>796</td>\n",
       "      <td>2</td>\n",
       "    </tr>\n",
       "    <tr>\n",
       "      <th>3</th>\n",
       "      <td>0</td>\n",
       "      <td>2.0</td>\n",
       "      <td>1.0</td>\n",
       "      <td>5.0</td>\n",
       "      <td>1</td>\n",
       "      <td>21800</td>\n",
       "      <td>4.59</td>\n",
       "      <td>0.0</td>\n",
       "      <td>796</td>\n",
       "      <td>1</td>\n",
       "    </tr>\n",
       "    <tr>\n",
       "      <th>4</th>\n",
       "      <td>0</td>\n",
       "      <td>2.0</td>\n",
       "      <td>1.0</td>\n",
       "      <td>1.0</td>\n",
       "      <td>9</td>\n",
       "      <td>274300</td>\n",
       "      <td>3.28</td>\n",
       "      <td>0.0</td>\n",
       "      <td>796</td>\n",
       "      <td>0</td>\n",
       "    </tr>\n",
       "    <tr>\n",
       "      <th>5</th>\n",
       "      <td>0</td>\n",
       "      <td>2.0</td>\n",
       "      <td>0.0</td>\n",
       "      <td>5.0</td>\n",
       "      <td>1</td>\n",
       "      <td>35600</td>\n",
       "      <td>2.81</td>\n",
       "      <td>0.0</td>\n",
       "      <td>796</td>\n",
       "      <td>1</td>\n",
       "    </tr>\n",
       "    <tr>\n",
       "      <th>6</th>\n",
       "      <td>0</td>\n",
       "      <td>2.0</td>\n",
       "      <td>0.0</td>\n",
       "      <td>2.0</td>\n",
       "      <td>6</td>\n",
       "      <td>278800</td>\n",
       "      <td>2.15</td>\n",
       "      <td>0.0</td>\n",
       "      <td>796</td>\n",
       "      <td>5</td>\n",
       "    </tr>\n",
       "    <tr>\n",
       "      <th>7</th>\n",
       "      <td>0</td>\n",
       "      <td>2.0</td>\n",
       "      <td>0.0</td>\n",
       "      <td>1.0</td>\n",
       "      <td>4</td>\n",
       "      <td>257200</td>\n",
       "      <td>1.56</td>\n",
       "      <td>0.0</td>\n",
       "      <td>796</td>\n",
       "      <td>0</td>\n",
       "    </tr>\n",
       "    <tr>\n",
       "      <th>8</th>\n",
       "      <td>0</td>\n",
       "      <td>2.0</td>\n",
       "      <td>1.0</td>\n",
       "      <td>4.0</td>\n",
       "      <td>1</td>\n",
       "      <td>137500</td>\n",
       "      <td>0.73</td>\n",
       "      <td>0.0</td>\n",
       "      <td>796</td>\n",
       "      <td>1</td>\n",
       "    </tr>\n",
       "    <tr>\n",
       "      <th>9</th>\n",
       "      <td>0</td>\n",
       "      <td>2.0</td>\n",
       "      <td>0.0</td>\n",
       "      <td>3.0</td>\n",
       "      <td>0</td>\n",
       "      <td>311000</td>\n",
       "      <td>0.00</td>\n",
       "      <td>0.0</td>\n",
       "      <td>796</td>\n",
       "      <td>2</td>\n",
       "    </tr>\n",
       "  </tbody>\n",
       "</table>\n",
       "</div>"
      ],
      "text/plain": [
       "   Country  Year  Sex  Age  suicides_no  population  suicides/100k pop  \\\n",
       "0        0   2.0  1.0  0.0           21      312900               6.71   \n",
       "1        0   2.0  1.0  2.0           16      308000               5.19   \n",
       "2        0   2.0  0.0  0.0           14      289700               4.83   \n",
       "3        0   2.0  1.0  5.0            1       21800               4.59   \n",
       "4        0   2.0  1.0  1.0            9      274300               3.28   \n",
       "5        0   2.0  0.0  5.0            1       35600               2.81   \n",
       "6        0   2.0  0.0  2.0            6      278800               2.15   \n",
       "7        0   2.0  0.0  1.0            4      257200               1.56   \n",
       "8        0   2.0  1.0  4.0            1      137500               0.73   \n",
       "9        0   2.0  0.0  3.0            0      311000               0.00   \n",
       "\n",
       "   Country-year  gdp_per_capita ($)  Generation  \n",
       "0           0.0                 796           2  \n",
       "1           0.0                 796           5  \n",
       "2           0.0                 796           2  \n",
       "3           0.0                 796           1  \n",
       "4           0.0                 796           0  \n",
       "5           0.0                 796           1  \n",
       "6           0.0                 796           5  \n",
       "7           0.0                 796           0  \n",
       "8           0.0                 796           1  \n",
       "9           0.0                 796           2  "
      ]
     },
     "execution_count": 3,
     "metadata": {},
     "output_type": "execute_result"
    }
   ],
   "source": [
    "df.head(10)"
   ]
  },
  {
   "cell_type": "markdown",
   "id": "unavailable-suspect",
   "metadata": {},
   "source": [
    "### Split data into training and testing sets"
   ]
  },
  {
   "cell_type": "code",
   "execution_count": 4,
   "id": "charged-merchandise",
   "metadata": {
    "ExecuteTime": {
     "end_time": "2021-04-28T14:36:23.792820Z",
     "start_time": "2021-04-28T14:36:23.254915Z"
    }
   },
   "outputs": [],
   "source": [
    "from sklearn.model_selection import train_test_split"
   ]
  },
  {
   "cell_type": "markdown",
   "id": "widespread-cloud",
   "metadata": {},
   "source": [
    "#### Target is 'Age' or the age group"
   ]
  },
  {
   "cell_type": "code",
   "execution_count": 5,
   "id": "cutting-criticism",
   "metadata": {
    "ExecuteTime": {
     "end_time": "2021-04-28T14:36:23.808255Z",
     "start_time": "2021-04-28T14:36:23.793632Z"
    }
   },
   "outputs": [],
   "source": [
    "# features\n",
    "X = df.drop(['Age'],axis=1)\n",
    "# Target/Class/Label\n",
    "y = df['Age']"
   ]
  },
  {
   "cell_type": "markdown",
   "id": "treated-personal",
   "metadata": {},
   "source": [
    "#### size of testing samples is 20%"
   ]
  },
  {
   "cell_type": "code",
   "execution_count": 6,
   "id": "integral-qatar",
   "metadata": {
    "ExecuteTime": {
     "end_time": "2021-04-28T14:36:23.823224Z",
     "start_time": "2021-04-28T14:36:23.809265Z"
    }
   },
   "outputs": [],
   "source": [
    "X_train,X_test,y_train,y_test = train_test_split(X, y, test_size=0.2, random_state=123,)"
   ]
  },
  {
   "cell_type": "markdown",
   "id": "potential-desert",
   "metadata": {},
   "source": [
    "### Standardize numeric values to smaller numbers for faster processing"
   ]
  },
  {
   "cell_type": "code",
   "execution_count": 7,
   "id": "prerequisite-azerbaijan",
   "metadata": {
    "ExecuteTime": {
     "end_time": "2021-04-28T14:36:23.838376Z",
     "start_time": "2021-04-28T14:36:23.824224Z"
    }
   },
   "outputs": [],
   "source": [
    "from sklearn.preprocessing import StandardScaler\n",
    "scaler = StandardScaler()"
   ]
  },
  {
   "cell_type": "code",
   "execution_count": 8,
   "id": "proof-print",
   "metadata": {
    "ExecuteTime": {
     "end_time": "2021-04-28T14:36:23.854452Z",
     "start_time": "2021-04-28T14:36:23.839374Z"
    }
   },
   "outputs": [],
   "source": [
    "train_scaled = scaler.fit_transform(X_train)\n",
    "test_scaled = scaler.transform(X_test)"
   ]
  },
  {
   "cell_type": "markdown",
   "id": "reflected-quantity",
   "metadata": {},
   "source": [
    "### Import and implement LogisticRegression model"
   ]
  },
  {
   "cell_type": "code",
   "execution_count": 9,
   "id": "absent-flower",
   "metadata": {
    "ExecuteTime": {
     "end_time": "2021-04-28T14:36:23.886347Z",
     "start_time": "2021-04-28T14:36:23.855418Z"
    }
   },
   "outputs": [],
   "source": [
    "from sklearn.linear_model import LogisticRegression"
   ]
  },
  {
   "cell_type": "code",
   "execution_count": 10,
   "id": "infrared-bench",
   "metadata": {
    "ExecuteTime": {
     "end_time": "2021-04-28T14:36:23.901394Z",
     "start_time": "2021-04-28T14:36:23.887346Z"
    }
   },
   "outputs": [],
   "source": [
    "model = LogisticRegression()"
   ]
  },
  {
   "cell_type": "code",
   "execution_count": 11,
   "id": "mental-template",
   "metadata": {
    "ExecuteTime": {
     "end_time": "2021-04-28T14:36:24.644040Z",
     "start_time": "2021-04-28T14:36:23.902421Z"
    }
   },
   "outputs": [
    {
     "name": "stderr",
     "output_type": "stream",
     "text": [
      "C:\\Users\\scjam\\anaconda3\\envs\\tf2.4\\lib\\site-packages\\sklearn\\linear_model\\_logistic.py:763: ConvergenceWarning: lbfgs failed to converge (status=1):\n",
      "STOP: TOTAL NO. of ITERATIONS REACHED LIMIT.\n",
      "\n",
      "Increase the number of iterations (max_iter) or scale the data as shown in:\n",
      "    https://scikit-learn.org/stable/modules/preprocessing.html\n",
      "Please also refer to the documentation for alternative solver options:\n",
      "    https://scikit-learn.org/stable/modules/linear_model.html#logistic-regression\n",
      "  n_iter_i = _check_optimize_result(\n"
     ]
    },
    {
     "data": {
      "text/plain": [
       "LogisticRegression()"
      ]
     },
     "execution_count": 11,
     "metadata": {},
     "output_type": "execute_result"
    }
   ],
   "source": [
    "model.fit(train_scaled, y_train)"
   ]
  },
  {
   "cell_type": "code",
   "execution_count": 12,
   "id": "english-xerox",
   "metadata": {
    "ExecuteTime": {
     "end_time": "2021-04-28T14:36:24.659993Z",
     "start_time": "2021-04-28T14:36:24.645033Z"
    }
   },
   "outputs": [
    {
     "data": {
      "text/plain": [
       "array([3., 3., 3., ..., 3., 3., 3.])"
      ]
     },
     "execution_count": 12,
     "metadata": {},
     "output_type": "execute_result"
    }
   ],
   "source": [
    "model.predict(X_test)"
   ]
  },
  {
   "cell_type": "code",
   "execution_count": 13,
   "id": "bound-nicaragua",
   "metadata": {
    "ExecuteTime": {
     "end_time": "2021-04-28T14:36:24.675950Z",
     "start_time": "2021-04-28T14:36:24.661004Z"
    }
   },
   "outputs": [
    {
     "data": {
      "text/plain": [
       "0.16175413371675054"
      ]
     },
     "execution_count": 13,
     "metadata": {},
     "output_type": "execute_result"
    }
   ],
   "source": [
    "model.score(X_test,y_test)"
   ]
  },
  {
   "cell_type": "code",
   "execution_count": 14,
   "id": "explicit-leonard",
   "metadata": {
    "ExecuteTime": {
     "end_time": "2021-04-28T14:36:24.691909Z",
     "start_time": "2021-04-28T14:36:24.676948Z"
    }
   },
   "outputs": [
    {
     "data": {
      "text/plain": [
       "array([[0., 0., 0., 1., 0., 0.],\n",
       "       [0., 0., 0., 1., 0., 0.],\n",
       "       [0., 0., 0., 1., 0., 0.],\n",
       "       ...,\n",
       "       [0., 0., 0., 1., 0., 0.],\n",
       "       [0., 0., 0., 1., 0., 0.],\n",
       "       [0., 0., 0., 1., 0., 0.]])"
      ]
     },
     "execution_count": 14,
     "metadata": {},
     "output_type": "execute_result"
    }
   ],
   "source": [
    "model.predict_proba(X_test)"
   ]
  },
  {
   "cell_type": "code",
   "execution_count": 15,
   "id": "unauthorized-auckland",
   "metadata": {
    "ExecuteTime": {
     "end_time": "2021-04-28T14:36:24.707498Z",
     "start_time": "2021-04-28T14:36:24.692905Z"
    }
   },
   "outputs": [],
   "source": [
    "from sklearn.metrics import accuracy_score"
   ]
  },
  {
   "cell_type": "code",
   "execution_count": 16,
   "id": "higher-beginning",
   "metadata": {
    "ExecuteTime": {
     "end_time": "2021-04-28T14:36:24.723422Z",
     "start_time": "2021-04-28T14:36:24.708462Z"
    }
   },
   "outputs": [
    {
     "data": {
      "text/plain": [
       "0.5128504672897196"
      ]
     },
     "execution_count": 16,
     "metadata": {},
     "output_type": "execute_result"
    }
   ],
   "source": [
    "accuracy_score(y_train, model.predict(train_scaled))"
   ]
  },
  {
   "cell_type": "code",
   "execution_count": 17,
   "id": "given-learning",
   "metadata": {
    "ExecuteTime": {
     "end_time": "2021-04-28T14:36:24.739388Z",
     "start_time": "2021-04-28T14:36:24.724419Z"
    }
   },
   "outputs": [
    {
     "data": {
      "text/plain": [
       "0.505391804457225"
      ]
     },
     "execution_count": 17,
     "metadata": {},
     "output_type": "execute_result"
    }
   ],
   "source": [
    "accuracy_score(y_test, model.predict(test_scaled))"
   ]
  },
  {
   "cell_type": "code",
   "execution_count": null,
   "id": "written-imperial",
   "metadata": {},
   "outputs": [],
   "source": []
  }
 ],
 "metadata": {
  "kernelspec": {
   "display_name": "Python 3",
   "language": "python",
   "name": "python3"
  },
  "language_info": {
   "codemirror_mode": {
    "name": "ipython",
    "version": 3
   },
   "file_extension": ".py",
   "mimetype": "text/x-python",
   "name": "python",
   "nbconvert_exporter": "python",
   "pygments_lexer": "ipython3",
   "version": "3.8.0"
  }
 },
 "nbformat": 4,
 "nbformat_minor": 5
}
