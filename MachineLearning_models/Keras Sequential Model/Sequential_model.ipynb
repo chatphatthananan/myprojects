{
 "cells": [
  {
   "cell_type": "code",
   "execution_count": 1,
   "id": "saving-northern",
   "metadata": {
    "ExecuteTime": {
     "end_time": "2021-04-28T17:22:31.043198Z",
     "start_time": "2021-04-28T17:22:30.693866Z"
    }
   },
   "outputs": [],
   "source": [
    "import pandas as pd\n",
    "import numpy as np"
   ]
  },
  {
   "cell_type": "code",
   "execution_count": 2,
   "id": "living-bearing",
   "metadata": {
    "ExecuteTime": {
     "end_time": "2021-04-28T17:22:31.075245Z",
     "start_time": "2021-04-28T17:22:31.044196Z"
    }
   },
   "outputs": [],
   "source": [
    "df = pd.read_csv('preprocessed_suicides.csv')"
   ]
  },
  {
   "cell_type": "code",
   "execution_count": 3,
   "id": "respective-pension",
   "metadata": {
    "ExecuteTime": {
     "end_time": "2021-04-28T17:22:31.091175Z",
     "start_time": "2021-04-28T17:22:31.076215Z"
    }
   },
   "outputs": [
    {
     "name": "stdout",
     "output_type": "stream",
     "text": [
      "<class 'pandas.core.frame.DataFrame'>\n",
      "RangeIndex: 27820 entries, 0 to 27819\n",
      "Data columns (total 10 columns):\n",
      " #   Column              Non-Null Count  Dtype  \n",
      "---  ------              --------------  -----  \n",
      " 0   Country             27820 non-null  int64  \n",
      " 1   Year                27820 non-null  float64\n",
      " 2   Sex                 27820 non-null  float64\n",
      " 3   Age                 27820 non-null  float64\n",
      " 4   suicides_no         27820 non-null  int64  \n",
      " 5   population          27820 non-null  int64  \n",
      " 6   suicides/100k pop   27820 non-null  float64\n",
      " 7   Country-year        27820 non-null  float64\n",
      " 8   gdp_per_capita ($)  27820 non-null  int64  \n",
      " 9   Generation          27820 non-null  int64  \n",
      "dtypes: float64(5), int64(5)\n",
      "memory usage: 2.1 MB\n"
     ]
    }
   ],
   "source": [
    "df.info()"
   ]
  },
  {
   "cell_type": "code",
   "execution_count": 4,
   "id": "yellow-definition",
   "metadata": {
    "ExecuteTime": {
     "end_time": "2021-04-28T17:22:31.106135Z",
     "start_time": "2021-04-28T17:22:31.092173Z"
    }
   },
   "outputs": [],
   "source": [
    "X = df[['Country','Year','Sex','suicides_no','population','suicides/100k pop','Country-year','gdp_per_capita ($)','Generation']].values"
   ]
  },
  {
   "cell_type": "code",
   "execution_count": 5,
   "id": "south-pillow",
   "metadata": {
    "ExecuteTime": {
     "end_time": "2021-04-28T17:22:31.122149Z",
     "start_time": "2021-04-28T17:22:31.107132Z"
    }
   },
   "outputs": [],
   "source": [
    "y = df['Age']"
   ]
  },
  {
   "cell_type": "markdown",
   "id": "chicken-penetration",
   "metadata": {
    "ExecuteTime": {
     "end_time": "2021-04-28T17:19:57.116458Z",
     "start_time": "2021-04-28T17:19:57.101475Z"
    }
   },
   "source": [
    "X = np.array(X)\n",
    "y = np.array(y)"
   ]
  },
  {
   "cell_type": "code",
   "execution_count": 6,
   "id": "oriented-transition",
   "metadata": {
    "ExecuteTime": {
     "end_time": "2021-04-28T17:22:31.704912Z",
     "start_time": "2021-04-28T17:22:31.123145Z"
    }
   },
   "outputs": [],
   "source": [
    "from sklearn.model_selection import train_test_split"
   ]
  },
  {
   "cell_type": "code",
   "execution_count": 7,
   "id": "derived-cement",
   "metadata": {
    "ExecuteTime": {
     "end_time": "2021-04-28T17:22:31.720864Z",
     "start_time": "2021-04-28T17:22:31.705904Z"
    }
   },
   "outputs": [],
   "source": [
    "X_train, X_test, y_train, y_test = train_test_split(X, y, test_size=0.2, random_state = 0)"
   ]
  },
  {
   "cell_type": "code",
   "execution_count": 8,
   "id": "desirable-terry",
   "metadata": {
    "ExecuteTime": {
     "end_time": "2021-04-28T17:22:31.736852Z",
     "start_time": "2021-04-28T17:22:31.722858Z"
    }
   },
   "outputs": [],
   "source": [
    "from sklearn.preprocessing import StandardScaler\n",
    "sc = StandardScaler()\n",
    "X_train = sc.fit_transform(X_train)\n",
    "X_test = sc.fit_transform(X_test)"
   ]
  },
  {
   "cell_type": "code",
   "execution_count": 9,
   "id": "english-database",
   "metadata": {
    "ExecuteTime": {
     "end_time": "2021-04-28T17:22:33.371022Z",
     "start_time": "2021-04-28T17:22:31.737849Z"
    }
   },
   "outputs": [],
   "source": [
    "import tensorflow as tf\n",
    "from tensorflow.keras.models import Sequential\n",
    "from tensorflow.keras.layers import Dense"
   ]
  },
  {
   "cell_type": "code",
   "execution_count": 10,
   "id": "clear-outdoors",
   "metadata": {
    "ExecuteTime": {
     "end_time": "2021-04-28T17:22:34.278634Z",
     "start_time": "2021-04-28T17:22:33.372019Z"
    }
   },
   "outputs": [
    {
     "name": "stdout",
     "output_type": "stream",
     "text": [
      "Model: \"sequential\"\n",
      "_________________________________________________________________\n",
      "Layer (type)                 Output Shape              Param #   \n",
      "=================================================================\n",
      "dense (Dense)                (None, 32)                320       \n",
      "_________________________________________________________________\n",
      "dense_1 (Dense)              (None, 1)                 33        \n",
      "=================================================================\n",
      "Total params: 353\n",
      "Trainable params: 353\n",
      "Non-trainable params: 0\n",
      "_________________________________________________________________\n"
     ]
    }
   ],
   "source": [
    "model = Sequential([\n",
    "    Dense(32, activation='relu', input_shape=(9,) ),\n",
    "    Dense(1, activation='softmax')\n",
    "])\n",
    "model.summary()"
   ]
  },
  {
   "cell_type": "code",
   "execution_count": 11,
   "id": "chief-shield",
   "metadata": {
    "ExecuteTime": {
     "end_time": "2021-04-28T17:22:34.293563Z",
     "start_time": "2021-04-28T17:22:34.279629Z"
    }
   },
   "outputs": [],
   "source": [
    "model.compile(optimizer='Adam',\n",
    "              loss='categorical_crossentropy',\n",
    "              metrics=['accuracy'])"
   ]
  },
  {
   "cell_type": "code",
   "execution_count": 12,
   "id": "arbitrary-difficulty",
   "metadata": {
    "ExecuteTime": {
     "end_time": "2021-04-28T17:22:47.354203Z",
     "start_time": "2021-04-28T17:22:34.294560Z"
    },
    "scrolled": false
   },
   "outputs": [
    {
     "name": "stdout",
     "output_type": "stream",
     "text": [
      "Epoch 1/10\n",
      "557/557 - 3s - loss: 0.0000e+00 - accuracy: 0.1683 - val_loss: 0.0000e+00 - val_accuracy: 0.1642\n",
      "Epoch 2/10\n",
      "557/557 - 1s - loss: 0.0000e+00 - accuracy: 0.1683 - val_loss: 0.0000e+00 - val_accuracy: 0.1642\n",
      "Epoch 3/10\n",
      "557/557 - 1s - loss: 0.0000e+00 - accuracy: 0.1683 - val_loss: 0.0000e+00 - val_accuracy: 0.1642\n",
      "Epoch 4/10\n",
      "557/557 - 1s - loss: 0.0000e+00 - accuracy: 0.1683 - val_loss: 0.0000e+00 - val_accuracy: 0.1642\n",
      "Epoch 5/10\n",
      "557/557 - 1s - loss: 0.0000e+00 - accuracy: 0.1683 - val_loss: 0.0000e+00 - val_accuracy: 0.1642\n",
      "Epoch 6/10\n",
      "557/557 - 1s - loss: 0.0000e+00 - accuracy: 0.1683 - val_loss: 0.0000e+00 - val_accuracy: 0.1642\n",
      "Epoch 7/10\n",
      "557/557 - 1s - loss: 0.0000e+00 - accuracy: 0.1683 - val_loss: 0.0000e+00 - val_accuracy: 0.1642\n",
      "Epoch 8/10\n",
      "557/557 - 1s - loss: 0.0000e+00 - accuracy: 0.1683 - val_loss: 0.0000e+00 - val_accuracy: 0.1642\n",
      "Epoch 9/10\n",
      "557/557 - 1s - loss: 0.0000e+00 - accuracy: 0.1683 - val_loss: 0.0000e+00 - val_accuracy: 0.1642\n",
      "Epoch 10/10\n",
      "557/557 - 1s - loss: 0.0000e+00 - accuracy: 0.1683 - val_loss: 0.0000e+00 - val_accuracy: 0.1642\n"
     ]
    },
    {
     "data": {
      "text/plain": [
       "<tensorflow.python.keras.callbacks.History at 0x19a33e95190>"
      ]
     },
     "execution_count": 12,
     "metadata": {},
     "output_type": "execute_result"
    }
   ],
   "source": [
    "model.fit(\n",
    "    X_train,\n",
    "    y_train,\n",
    "    batch_size=32,\n",
    "    epochs=10,\n",
    "    verbose=2,\n",
    "    validation_split=0.2,\n",
    "    shuffle=True\n",
    ")"
   ]
  },
  {
   "cell_type": "code",
   "execution_count": 13,
   "id": "regular-white",
   "metadata": {
    "ExecuteTime": {
     "end_time": "2021-04-28T17:22:47.783578Z",
     "start_time": "2021-04-28T17:22:47.355210Z"
    }
   },
   "outputs": [
    {
     "name": "stdout",
     "output_type": "stream",
     "text": [
      "174/174 [==============================] - 0s 2ms/step - loss: 0.0000e+00 - accuracy: 0.1643\n"
     ]
    },
    {
     "data": {
      "text/plain": [
       "[0.0, 0.1642703115940094]"
      ]
     },
     "execution_count": 13,
     "metadata": {},
     "output_type": "execute_result"
    }
   ],
   "source": [
    "model.evaluate(\n",
    "    X_test,\n",
    "    y_test,\n",
    "    batch_size=32,\n",
    "    verbose=1)"
   ]
  },
  {
   "cell_type": "code",
   "execution_count": 14,
   "id": "differential-somalia",
   "metadata": {
    "ExecuteTime": {
     "end_time": "2021-04-28T17:22:48.000317Z",
     "start_time": "2021-04-28T17:22:47.784576Z"
    }
   },
   "outputs": [
    {
     "name": "stdout",
     "output_type": "stream",
     "text": [
      "174/174 [==============================] - 0s 726us/step\n"
     ]
    },
    {
     "data": {
      "text/plain": [
       "array([[1.],\n",
       "       [1.],\n",
       "       [1.],\n",
       "       ...,\n",
       "       [1.],\n",
       "       [1.],\n",
       "       [1.]], dtype=float32)"
      ]
     },
     "execution_count": 14,
     "metadata": {},
     "output_type": "execute_result"
    }
   ],
   "source": [
    "model.predict(\n",
    "    X_test,\n",
    "    batch_size=32,\n",
    "    verbose=1)"
   ]
  },
  {
   "cell_type": "code",
   "execution_count": null,
   "id": "decreased-alberta",
   "metadata": {},
   "outputs": [],
   "source": []
  }
 ],
 "metadata": {
  "kernelspec": {
   "display_name": "Python 3",
   "language": "python",
   "name": "python3"
  },
  "language_info": {
   "codemirror_mode": {
    "name": "ipython",
    "version": 3
   },
   "file_extension": ".py",
   "mimetype": "text/x-python",
   "name": "python",
   "nbconvert_exporter": "python",
   "pygments_lexer": "ipython3",
   "version": "3.8.0"
  }
 },
 "nbformat": 4,
 "nbformat_minor": 5
}
